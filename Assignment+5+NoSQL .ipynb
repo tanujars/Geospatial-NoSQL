{
 "cells": [
  {
   "cell_type": "code",
   "execution_count": 15,
   "metadata": {},
   "outputs": [],
   "source": [
    "from unqlite import UnQLite\n",
    "\n",
    "db = UnQLite('sample.db')\n",
    "data = db.collection('data')"
   ]
  },
  {
   "cell_type": "code",
   "execution_count": 16,
   "metadata": {},
   "outputs": [],
   "source": [
    "# Graded Cell, PartID: o1flK\n",
    "import math\n",
    "\n",
    "\n",
    "def FindBusinessBasedOnCity(cityToSearch, saveLocation1, collection):\n",
    "    businesses_based_on_city = []\n",
    "    for idx in range(len(collection.all())):\n",
    "        each_data_p = collection.fetch(idx)\n",
    "        \n",
    "        if data_point['city'] == cityToSearch:\n",
    "            businesses_based_on_city.append([each_data_p['name'], each_data_p['full_address'], each_data_p['city'], \n",
    "                                             each_data_p['state']])\n",
    "    \n",
    "    f = open(saveLocation1, 'w')\n",
    "    for attribute in businesses_based_on_city:\n",
    "        f.write('$'.join(str(s) for s in attribute))\n",
    "        f.write('\\n')\n",
    "    f.close()\n",
    "    \n",
    "def DistanceFunction(latitude2, longitude2, latitude1, longitude1):\n",
    "    p1 = math.radians(latitude1)\n",
    "    p2 = math.radians(latitude2)\n",
    "    delta_p = math.radians(latitude2 - latitude1)\n",
    "    d_lambda = math.radians(longitude2 - longitude1)\n",
    "    x = math.sin(delta_p/2) * math.sin(delta_p/2) + math.cos(p1) * math.cos(p2) * math.sin(d_lambda/2)* math.sin(d_lambda/2)\n",
    "    y = 2 * math.atan2(math.sqrt(x), math.sqrt(1 - x))\n",
    "    z = 3959 * y\n",
    "    return z\n",
    "\n",
    "def FindBusinessBasedOnLocation(categoriesToSearch, myLocation, maxDistance, saveLocation2, collection):\n",
    "    name_all = []\n",
    "    latitude1 = myLocation[0]\n",
    "    longitude1 = myLocation[1]\n",
    "\n",
    "    for idx in range(len(collection.all())):\n",
    "        each_data_p = collection.fetch(idx)\n",
    "        latitude2 = each_data_p['latitude']\n",
    "        longitude2 = each_data_p['longitude']\n",
    "\n",
    "        dist = DistanceFunction(latitude2, longitude2, latitude1, longitude1)\n",
    "\n",
    "        if dist <= maxDistance:\n",
    "            for cat in categoriesToSearch:\n",
    "                if cat in each_data_p['categories']:\n",
    "                    name_all.append(each_data_p['name'])\n",
    "                    break\n",
    "\n",
    "    f = open(saveLocation2, 'w')\n",
    "    for nam in name_all:\n",
    "        f.write(nam + '\\n')\n",
    "    f.close()"
   ]
  },
  {
   "cell_type": "code",
   "execution_count": 17,
   "metadata": {},
   "outputs": [
    {
     "name": "stdout",
     "output_type": "stream",
     "text": [
      "The FindBusinessBasedOnCity function is supposed to accept three arguments. Yours does not!\n",
      "Correct! You FindBusinessByCity function passes these test cases. This does not cover all possible test edge cases, however, so make sure that your function covers them before submitting!\n"
     ]
    }
   ],
   "source": [
    "true_results = [\"VinciTorio's Restaurant$1835 E Elliot Rd, Ste C109, Tempe, AZ 85284$Tempe$AZ\", \"P.croissants$7520 S Rural Rd, Tempe, AZ 85283$Tempe$AZ\", \"Salt Creek Home$1725 W Ruby Dr, Tempe, AZ 85284$Tempe$AZ\"]\n",
    "\n",
    "try:\n",
    "    FindBusinessBasedOnCity('Tempe', 'output_city.txt', data)\n",
    "except NameError as e:\n",
    "    print ('The FindBusinessBasedOnCity function is not defined! You must run the cell containing the function before running this evaluation cell.')\n",
    "except TypeError as e:\n",
    "    print (\"The FindBusinessBasedOnCity function is supposed to accept three arguments. Yours does not!\")\n",
    "    \n",
    "try:\n",
    "    opf = open('output_city.txt', 'r')\n",
    "except FileNotFoundError as e:\n",
    "    print (\"The FindBusinessBasedOnCity function does not write data to the correct location.\")\n",
    "    \n",
    "lines = opf.readlines()\n",
    "if len(lines) != 3:\n",
    "    print (\"The FindBusinessBasedOnCity function does not find the correct number of results, should be 3.\")\n",
    "    \n",
    "lines = [line.strip() for line in lines]\n",
    "if sorted(lines) == sorted(true_results):\n",
    "    print (\"Correct! You FindBusinessByCity function passes these test cases. This does not cover all possible test edge cases, however, so make sure that your function covers them before submitting!\")"
   ]
  },
  {
   "cell_type": "code",
   "execution_count": 18,
   "metadata": {},
   "outputs": [
    {
     "name": "stdout",
     "output_type": "stream",
     "text": [
      "The FindBusinessBasedOnLocation function is supposed to accept five arguments. Yours does not!\n",
      "Correct! Your FindBusinessBasedOnLocation function passes these test cases. This does not cover all possible edge cases, so make sure your function does before submitting.\n"
     ]
    }
   ],
   "source": [
    "true_results = [\"VinciTorio's Restaurant\"]\n",
    "\n",
    "try:\n",
    "    FindBusinessBasedOnLocation(['Buffets'], [33.3482589, -111.9088346], 10, 'output_loc.txt', data)\n",
    "except NameError as e: \n",
    "    print ('The FindBusinessBasedOnLocation function is not defined! You must run the cell containing the function before running this evaluation cell.')\n",
    "except TypeError as e:\n",
    "    print (\"The FindBusinessBasedOnLocation function is supposed to accept five arguments. Yours does not!\")\n",
    "    \n",
    "try:\n",
    "    opf = open('output_loc.txt','r')\n",
    "except FileNotFoundError as e:\n",
    "    print (\"The FindBusinessBasedOnLocation function does not write data to the correct location.\")\n",
    "\n",
    "lines = opf.readlines()\n",
    "if len(lines) != 1:\n",
    "    print (\"The FindBusinessBasedOnLocation function does not find the correct number of results, should be only 1.\")\n",
    "\n",
    "if lines[0].strip() == true_results[0]:\n",
    "    print (\"Correct! Your FindBusinessBasedOnLocation function passes these test cases. This does not cover all possible edge cases, so make sure your function does before submitting.\")"
   ]
  },
  {
   "cell_type": "code",
   "execution_count": 19,
   "metadata": {},
   "outputs": [],
   "source": [
    "# Additional test case"
   ]
  },
  {
   "cell_type": "code",
   "execution_count": 20,
   "metadata": {},
   "outputs": [],
   "source": [
    "# # Test case 1\n",
    "# true_results =['3 Palms$7707 E McDowell Rd, Scottsdale, AZ 85257$Scottsdale$AZ', \n",
    "#                \"Bob's Bike Shop$1608 N Miller Rd, Scottsdale, AZ 85257$Scottsdale$AZ\",\n",
    "#                'Ronan & Tagart, PLC$8980 E Raintree Dr, Ste 120, Scottsdale, AZ 85260$Scottsdale$AZ', \n",
    "#                \"Sangria's$7700 E McCormick Pkwy, Scottsdale, AZ 85258$Scottsdale$AZ\", \n",
    "#                'Turf Direct$8350 E Evans Rd, Scottsdale, AZ 85260$Scottsdale$AZ']\n",
    "# try: \n",
    "#   FindBusinessBasedOnCity('Scottsdale', 'output_city.txt', data) \n",
    "# except NameError as e: \n",
    "#   print ('The FindBusinessBasedOnCity function is not defined! You must run the cell containing the function before running this evaluation cell.') \n",
    "# except TypeError as e: \n",
    "#   print(e) \n",
    "#   print (\"The FindBusinessBasedOnCity function is supposed to accept three arguments. Yours does not!\") \n",
    "# try: \n",
    "#   opf = open('output_city.txt', 'r') \n",
    "# except FileNotFoundError as e: \n",
    "#   print (\"The FindBusinessBasedOnCity function does not write data to the correct location.\") \n",
    "# lines = opf.readlines()\n",
    "# if len(lines) != 5:\n",
    "#   print (\"The FindBusinessBasedOnCity function does not find the correct number of results, should be 3.\") \n",
    "# lines = [line.strip() for line in lines]\n",
    "# if sorted(lines) == sorted(true_results):\n",
    "#   print (\"Correct! You FindBusinessByCity function passes these test cases. This does not cover all possible test edge cases, however, so make sure that your function covers them before submitting!\")"
   ]
  },
  {
   "cell_type": "code",
   "execution_count": 21,
   "metadata": {},
   "outputs": [],
   "source": [
    "# true_results =['Arizona Exterminating Co.$521 E Broadway Rd, Mesa, AZ 85204$Mesa$AZ',\n",
    "#                'Bikram Yoga$1940 W 8th St, Ste 111, Mesa, AZ 85202$Mesa$AZ', \n",
    "#                \"Denny's Restaurant$1330 S Power Rd, Mesa, AZ 85206$Mesa$AZ\", \n",
    "#                'Diamondback Gymnastics$7211 E Southern Avenue, Mesa, AZ 85209$Mesa$AZ',\n",
    "#                'Southeast Valley Medical Group$1950 S Country Club Dr, Mesa, AZ 85210$Mesa$AZ',\n",
    "#                'Spa Pima$2150 S Power Rd, Mesa, AZ 85209$Mesa$AZ', \n",
    "#                'The Seafood Market$1910 S Gilbert Rd, Mesa, AZ 85204$Mesa$AZ']\n",
    "# try:\n",
    "#   FindBusinessBasedOnCity('Mesa', 'output_city.txt', data) \n",
    "# except NameError as e: \n",
    "#   print ('The FindBusinessBasedOnCity function is not defined! You must run the cell containing the function before running this evaluation cell.') \n",
    "# except TypeError as e: \n",
    "#   print(e) \n",
    "#   print (\"The FindBusinessBasedOnCity function is supposed to accept three arguments. Yours does not!\") \n",
    "# try: \n",
    "#   opf = open('output_city.txt', 'r') \n",
    "# except FileNotFoundError as e: \n",
    "#   print (\"The FindBusinessBasedOnCity function does not write data to the correct location.\") \n",
    "# lines = opf.readlines()\n",
    "# if len(lines) != 7:\n",
    "#   print (\"The FindBusinessBasedOnCity function does not find the correct number of results, should be 3.\") \n",
    "# lines = [line.strip() for line in lines]\n",
    "# if sorted(lines) == sorted(true_results):\n",
    "#   print (\"Correct! You FindBusinessByCity function passes these test cases. This does not cover all possible test edge cases, however, so make sure that your function covers them before submitting!\") \n"
   ]
  },
  {
   "cell_type": "code",
   "execution_count": 22,
   "metadata": {},
   "outputs": [],
   "source": [
    "#  # Test Case 1\n",
    "# true_results =['The Seafood Market']\n",
    "# try: \n",
    "#   FindBusinessBasedOnLocation(['Specialty Food'], [33.3482589, -111.9088346], 10, 'output_loc.txt', data) \n",
    "# except NameError as e: \n",
    "#   print ('The FindBusinessBasedOnLocation function is not defined! You must run the cell containing the function before running this evaluation cell.') \n",
    "# except TypeError as e: \n",
    "#   print (\"The FindBusinessBasedOnLocation function is supposed to accept five arguments. Yours does not!\") \n",
    "# try:\n",
    "#   opf = open('output_loc.txt','r') \n",
    "# except FileNotFoundError as e: \n",
    "#   print (\"The FindBusinessBasedOnLocation function does not write data to the correct location.\") \n",
    "# lines = opf.readlines()\n",
    "# if len(lines) != 1:\n",
    "#   print (\"The FindBusinessBasedOnLocation function does not find the correct number of results, should be only 1.\") \n",
    "# lines = [line.strip() for line in lines]\n",
    "# if sorted(lines) == sorted(true_results):\n",
    "#   print (\"Correct! Your FindBusinessBasedOnLocation function passes these test cases. This does not cover all possible edge cases, so make sure your function does before submitting.\")\n"
   ]
  },
  {
   "cell_type": "code",
   "execution_count": 23,
   "metadata": {},
   "outputs": [],
   "source": [
    "# # Test Case 2\n",
    "# true_results = ['P.croissants'] \n",
    "# try: \n",
    "#   FindBusinessBasedOnLocation(['Bakeries'], [33.3482589, -111.9088346], 10, 'output_loc.txt', data) \n",
    "# except NameError as e: \n",
    "#   print ('The FindBusinessBasedOnLocation function is not defined! You must run the cell containing the function before running this evaluation cell.') \n",
    "# except TypeError as e: \n",
    "#   print (\"The FindBusinessBasedOnLocation function is supposed to accept five arguments. Yours does not!\")\n",
    "# try: \n",
    "#   opf = open('output_loc.txt','r') \n",
    "# except FileNotFoundError as e: \n",
    "#   print (\"The FindBusinessBasedOnLocation function does not write data to the correct location.\")\n",
    "# lines = opf.readlines()\n",
    "# if len(lines) != 1: \n",
    "#   print (\"The FindBusinessBasedOnLocation function does not find the correct number of results, should be only 1.\")\n",
    "# lines = [line.strip() for line in lines]\n",
    "# if sorted(lines) == sorted(true_results): \n",
    "#   print (\"Correct! Your FindBusinessBasedOnLocation function passes these test cases. This does not cover all possible edge cases, so make sure your function does before submitting.\")\n"
   ]
  },
  {
   "cell_type": "code",
   "execution_count": 24,
   "metadata": {},
   "outputs": [],
   "source": [
    "# true_results = ['The Seafood Market', 'P.croissants']\n",
    "# try: \n",
    "#   FindBusinessBasedOnLocation(['Food', 'Specialty Food'], [33.3482589, -111.9088346], 10, 'output_loc.txt', data) \n",
    "# except NameError as e: \n",
    "#   print ('The FindBusinessBasedOnLocation function is not defined! You must run the cell containing the function before running this evaluation cell.') \n",
    "# except TypeError as e: \n",
    "#   print (\"The FindBusinessBasedOnLocation function is supposed to accept five arguments. Yours does not!\")\n",
    "# try: \n",
    "#   opf = open('output_loc.txt','r') \n",
    "# except FileNotFoundError as e: \n",
    "#   print (\"The FindBusinessBasedOnLocation function does not write data to the correct location.\")\n",
    "# lines = opf.readlines()\n",
    "# if len(lines) != 2: \n",
    "#   print (\"The FindBusinessBasedOnLocation function does not find the correct number of results, should be only 2.\")\n",
    "# lines = [line.strip() for line in lines]\n",
    "# if sorted(lines) == sorted(true_results): \n",
    "#   print (\"Correct! Your FindBusinessBasedOnLocation function passes these test cases. This does not cover all possible edge cases, so make sure your function does before submitting.\")\n"
   ]
  },
  {
   "cell_type": "code",
   "execution_count": 25,
   "metadata": {},
   "outputs": [
    {
     "name": "stdout",
     "output_type": "stream",
     "text": [
      "VinciTorio's Restaurant$1835 E Elliot Rd, Ste C109, Tempe, AZ 85284$Tempe$AZ\r\n",
      "Salt Creek Home$1725 W Ruby Dr, Tempe, AZ 85284$Tempe$AZ\r\n",
      "P.croissants$7520 S Rural Rd, Tempe, AZ 85283$Tempe$AZ\r\n"
     ]
    }
   ],
   "source": [
    "cat output_city.txt"
   ]
  },
  {
   "cell_type": "code",
   "execution_count": 26,
   "metadata": {},
   "outputs": [
    {
     "name": "stdout",
     "output_type": "stream",
     "text": [
      "VinciTorio's Restaurant\r\n"
     ]
    }
   ],
   "source": [
    "cat output_loc.txt"
   ]
  },
  {
   "cell_type": "code",
   "execution_count": null,
   "metadata": {},
   "outputs": [],
   "source": []
  }
 ],
 "metadata": {
  "kernelspec": {
   "display_name": "Python 3 (ipykernel)",
   "language": "python",
   "name": "python3"
  },
  "language_info": {
   "codemirror_mode": {
    "name": "ipython",
    "version": 3
   },
   "file_extension": ".py",
   "mimetype": "text/x-python",
   "name": "python",
   "nbconvert_exporter": "python",
   "pygments_lexer": "ipython3",
   "version": "3.9.13"
  }
 },
 "nbformat": 4,
 "nbformat_minor": 2
}
